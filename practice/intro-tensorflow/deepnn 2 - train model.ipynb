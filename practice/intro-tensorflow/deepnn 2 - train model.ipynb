{
 "cells": [
  {
   "cell_type": "code",
   "execution_count": null,
   "metadata": {
    "collapsed": false
   },
   "outputs": [],
   "source": [
    "import pickle\n",
    "import math\n",
    "\n",
    "import numpy as np\n",
    "import tensorflow as tf\n",
    "from tqdm import tqdm\n",
    "import matplotlib.pyplot as plt\n",
    "from helper import batches\n",
    "\n",
    "# reload the data\n",
    "pickle_file = 'notMNIST.pickle'\n",
    "with open(pickle_file, 'rb') as pfile:\n",
    "    pickle_data = pickle.load(pfile)\n",
    "    train_features = pickle_data['train_dataset']\n",
    "    train_labels = pickle_data['train_labels']\n",
    "    valid_features = pickle_data['valid_dataset']\n",
    "    valid_labels = pickle_data['valid_labels']\n",
    "    test_features = pickle_data['test_dataset']\n",
    "    test_labels = pickle_data['test_labels']\n",
    "    del pickle_data\n",
    "\n",
    "print('Data module loaded')"
   ]
  },
  {
   "cell_type": "code",
   "execution_count": null,
   "metadata": {
    "collapsed": false
   },
   "outputs": [],
   "source": [
    "n_classes = (train_labels[0].shape)[0]\n",
    "print(n_classes)"
   ]
  },
  {
   "cell_type": "code",
   "execution_count": 34,
   "metadata": {
    "collapsed": false
   },
   "outputs": [],
   "source": [
    "learning_rate = 0.1\n",
    "batch_size = 128\n",
    "training_epochs = 5\n",
    "display_step = 50\n",
    "\n",
    "n_records, n_features = train_features.shape\n",
    "n_classes = (train_labels[0].shape)[0]\n",
    "n_hidden_layer = 256\n",
    "\n",
    "# weights and bias\n",
    "weights = {\n",
    "    'hidden_layer': tf.Variable(tf.random_normal([n_features, n_hidden_layer])),\n",
    "    'output_layer': tf.Variable(tf.random_normal([n_hidden_layer, n_classes]))\n",
    "}\n",
    "\n",
    "biases = {\n",
    "    'hidden_layer': tf.Variable(tf.random_normal([n_hidden_layer])),\n",
    "    'output_layer': tf.Variable(tf.random_normal([n_classes]))\n",
    "}\n",
    "\n",
    "# define inputs\n",
    "x = tf.placeholder(\"float\", [None, n_features])\n",
    "y = tf.placeholder(\"float\", [None, n_classes])\n",
    "\n",
    "layer_1 = tf.add(tf.matmul(x, weights['hidden_layer']), biases['hidden_layer']) # (n_records, n_hidden_layer)\n",
    "layer_1 = tf.nn.relu(layer_1)\n",
    "\n",
    "layer_2 = tf.add(tf.matmul(layer_1, weights['output_layer']), biases['output_layer'])"
   ]
  },
  {
   "cell_type": "code",
   "execution_count": 35,
   "metadata": {
    "collapsed": false
   },
   "outputs": [
    {
     "name": "stdout",
     "output_type": "stream",
     "text": [
      "Accuracy function created.\n"
     ]
    }
   ],
   "source": [
    "# Optimizer\n",
    "\n",
    "cost = tf.reduce_mean(tf.nn.softmax_cross_entropy_with_logits(logits=layer_2, labels=y))\n",
    "optimizer = tf.train.GradientDescentOptimizer(learning_rate=learning_rate).minimize(cost)\n",
    "\n",
    "prediction = tf.nn.softmax(layer_2)\n",
    "is_correct_prediction = tf.equal(tf.argmax(prediction, 1), tf.argmax(y, 1))\n",
    "accuracy = tf.reduce_mean(tf.cast(is_correct_prediction, tf.float32))\n",
    "\n",
    "print(\"Accuracy function created.\")\n"
   ]
  },
  {
   "cell_type": "code",
   "execution_count": 36,
   "metadata": {
    "collapsed": false
   },
   "outputs": [
    {
     "name": "stdout",
     "output_type": "stream",
     "text": [
      "1114\n",
      "[ 0.1         0.1         0.1         0.1         0.1         0.1         0.1\n",
      "  0.1         0.1         0.1         0.11254902  0.1         0.41999999\n",
      "  0.90000004  0.89372557  0.90000004  0.90000004  0.90000004  0.90000004\n",
      "  0.90000004  0.90000004  0.90000004  0.90000004  0.90000004  0.90000004\n",
      "  0.89372557  0.90000004  0.70862746  0.1         0.1         0.1         0.1\n",
      "  0.1         0.1         0.1         0.1         0.1         0.10313725\n",
      "  0.1         0.11254902  0.72745103  0.90000004  0.89372557  0.90000004\n",
      "  0.90000004  0.90000004  0.90000004  0.90000004  0.90000004  0.90000004\n",
      "  0.90000004  0.90000004  0.90000004  0.89686275  0.90000004  0.37294117\n",
      "  0.1         0.1         0.1         0.1         0.1         0.1         0.1\n",
      "  0.1         0.1         0.10941177  0.1         0.3509804   0.90000004\n",
      "  0.89686275  0.90000004  0.90000004  0.90000004  0.90000004  0.90000004\n",
      "  0.90000004  0.90000004  0.90000004  0.90000004  0.90000004  0.89372557\n",
      "  0.90000004  0.72431374  0.1         0.1         0.1         0.1         0.1\n",
      "  0.1         0.1         0.1         0.1         0.1         0.10313725\n",
      "  0.1         0.68352944  0.90000004  0.89058828  0.90000004  0.90000004\n",
      "  0.90000004  0.90000004  0.90000004  0.90000004  0.90000004  0.90000004\n",
      "  0.90000004  0.90000004  0.89058828  0.90000004  0.39803922  0.1         0.1\n",
      "  0.1         0.1         0.1         0.1         0.1         0.1         0.1\n",
      "  0.10627451  0.1         0.29450983  0.90000004  0.89686275  0.90000004\n",
      "  0.90000004  0.90000004  0.90000004  0.90000004  0.90000004  0.90000004\n",
      "  0.90000004  0.90000004  0.90000004  0.89372557  0.90000004  0.7839216\n",
      "  0.1282353   0.1         0.1         0.1         0.1         0.1         0.1\n",
      "  0.1         0.1         0.1         0.10941177  0.1         0.62705886\n",
      "  0.90000004  0.89058828  0.90000004  0.90000004  0.90000004  0.90000004\n",
      "  0.90000004  0.90000004  0.90000004  0.90000004  0.90000004  0.90000004\n",
      "  0.89058828  0.90000004  0.46078432  0.1         0.11254902  0.1         0.1\n",
      "  0.1         0.1         0.1         0.1         0.1         0.10627451\n",
      "  0.1         0.23803923  0.88117647  0.90000004  0.89686275  0.90000004\n",
      "  0.90000004  0.90000004  0.90000004  0.90000004  0.90000004  0.90000004\n",
      "  0.90000004  0.90000004  0.89372557  0.90000004  0.8247059   0.16588235\n",
      "  0.1         0.10313725  0.1         0.1         0.1         0.1         0.1\n",
      "  0.1         0.1         0.10941177  0.1         0.56431377  0.90000004\n",
      "  0.89058828  0.90000004  0.90000004  0.90000004  0.90000004  0.90000004\n",
      "  0.90000004  0.90000004  0.90000004  0.90000004  0.90000004  0.88745099\n",
      "  0.90000004  0.51411766  0.1         0.10941177  0.1         0.1         0.1\n",
      "  0.1         0.1         0.1         0.1         0.10627451  0.1\n",
      "  0.19411765  0.84352946  0.90000004  0.89686275  0.90000004  0.90000004\n",
      "  0.90000004  0.90000004  0.90000004  0.90000004  0.90000004  0.90000004\n",
      "  0.90000004  0.89686275  0.90000004  0.84352946  0.20666668  0.1\n",
      "  0.10627451  0.1         0.1         0.1         0.1         0.1         0.1\n",
      "  0.1         0.10941177  0.1         0.50470591  0.90000004  0.89058828\n",
      "  0.90000004  0.90000004  0.90000004  0.90000004  0.90000004  0.90000004\n",
      "  0.90000004  0.90000004  0.90000004  0.90000004  0.89058828  0.90000004\n",
      "  0.56431377  0.1         0.10941177  0.1         0.1         0.1         0.1\n",
      "  0.1         0.1         0.1         0.10313725  0.1         0.16588235\n",
      "  0.79960793  0.90000004  0.89372557  0.90000004  0.90000004  0.90000004\n",
      "  0.90000004  0.90000004  0.90000004  0.90000004  0.90000004  0.90000004\n",
      "  0.89686275  0.90000004  0.86862749  0.24431372  0.1         0.10627451\n",
      "  0.1         0.1         0.1         0.1         0.1         0.1         0.1\n",
      "  0.10941177  0.1         0.44509804  0.90000004  0.89058828  0.90000004\n",
      "  0.90000004  0.90000004  0.90000004  0.90000004  0.90000004  0.90000004\n",
      "  0.90000004  0.90000004  0.90000004  0.89058828  0.90000004  0.61450982\n",
      "  0.1         0.10627451  0.1         0.1         0.1         0.1         0.1\n",
      "  0.1         0.1         0.10313725  0.1         0.13137256  0.76823533\n",
      "  0.90000004  0.89372557  0.90000004  0.90000004  0.90000004  0.90000004\n",
      "  0.90000004  0.90000004  0.90000004  0.90000004  0.90000004  0.89686275\n",
      "  0.90000004  0.89686275  0.27568626  0.1         0.10941177  0.1         0.1\n",
      "  0.1         0.1         0.1         0.1         0.1         0.10941177\n",
      "  0.1         0.38549021  0.90000004  0.89058828  0.90000004  0.90000004\n",
      "  0.90000004  0.90000004  0.90000004  0.90000004  0.90000004  0.90000004\n",
      "  0.90000004  0.90000004  0.89058828  0.90000004  0.66784316  0.1\n",
      "  0.10627451  0.1         0.1         0.1         0.1         0.1         0.1\n",
      "  0.1         0.1         0.10313725  0.1         0.71803927  0.90000004\n",
      "  0.89058828  0.90000004  0.90000004  0.90000004  0.90000004  0.90000004\n",
      "  0.90000004  0.90000004  0.90000004  0.90000004  0.90000004  0.89372557\n",
      "  0.90000004  0.32588238  0.1         0.10941177  0.1         0.1         0.1\n",
      "  0.1         0.1         0.1         0.1         0.10941177  0.1\n",
      "  0.32274508  0.90000004  0.89372557  0.90000004  0.90000004  0.90000004\n",
      "  0.90000004  0.90000004  0.90000004  0.90000004  0.90000004  0.90000004\n",
      "  0.90000004  0.89058828  0.90000004  0.71803927  0.1         0.10313725\n",
      "  0.1         0.1         0.1         0.1         0.1         0.1         0.1\n",
      "  0.1         0.10627451  0.1         0.65843141  0.90000004  0.89058828\n",
      "  0.90000004  0.90000004  0.90000004  0.90000004  0.90000004  0.90000004\n",
      "  0.90000004  0.90000004  0.90000004  0.90000004  0.89058828  0.90000004\n",
      "  0.38235295  0.1         0.10941177  0.1         0.1         0.1         0.1\n",
      "  0.1         0.1         0.1         0.10627451  0.1         0.27254903\n",
      "  0.89058828  0.90000004  0.89686275  0.90000004  0.90000004  0.90000004\n",
      "  0.90000004  0.90000004  0.90000004  0.90000004  0.90000004  0.90000004\n",
      "  0.89372557  0.90000004  0.75568628  0.1282353   0.1         0.10313725\n",
      "  0.1         0.1         0.1         0.1         0.1         0.1         0.1\n",
      "  0.10627451  0.1         0.59882355  0.90000004  0.89058828  0.90000004\n",
      "  0.90000004  0.90000004  0.90000004  0.90000004  0.90000004  0.90000004\n",
      "  0.90000004  0.90000004  0.90000004  0.89058828  0.90000004  0.43254903\n",
      "  0.1         0.10941177  0.1         0.1         0.1         0.1         0.1\n",
      "  0.1         0.1         0.10627451  0.1         0.2317647   0.85921574\n",
      "  0.90000004  0.89686275  0.90000004  0.90000004  0.90000004  0.90000004\n",
      "  0.90000004  0.90000004  0.90000004  0.90000004  0.90000004  0.89372557\n",
      "  0.90000004  0.79019612  0.1564706   0.1         0.10313725  0.1         0.1\n",
      "  0.1         0.1         0.1         0.1         0.1         0.10941177\n",
      "  0.1         0.54235297  0.90000004  0.88745099  0.90000004  0.90000004\n",
      "  0.90000004  0.90000004  0.90000004  0.90000004  0.90000004  0.90000004\n",
      "  0.90000004  0.90000004  0.89058828  0.90000004  0.48274508  0.1\n",
      "  0.10941177  0.1         0.1         0.1         0.1         0.1         0.1\n",
      "  0.1         0.10313725  0.1         0.18470588  0.84039217  0.90000004\n",
      "  0.89686275  0.90000004  0.90000004  0.90000004  0.90000004  0.90000004\n",
      "  0.90000004  0.90000004  0.90000004  0.90000004  0.89686275  0.90000004\n",
      "  0.82784319  0.17529413  0.1         0.10627451  0.1         0.1         0.1\n",
      "  0.1         0.1         0.1         0.1         0.10941177  0.1\n",
      "  0.48274508  0.90000004  0.88745099  0.90000004  0.90000004  0.90000004\n",
      "  0.90000004  0.90000004  0.90000004  0.90000004  0.90000004  0.90000004\n",
      "  0.90000004  0.89058828  0.90000004  0.53607845  0.1         0.11254902\n",
      "  0.1         0.1         0.1         0.1         0.1         0.1         0.1\n",
      "  0.1         0.1         0.14078432  0.79960793  0.90000004  0.89372557\n",
      "  0.90000004  0.90000004  0.90000004  0.90000004  0.90000004  0.90000004\n",
      "  0.90000004  0.90000004  0.90000004  0.89686275  0.90000004  0.8654902\n",
      "  0.21294118  0.1         0.10627451  0.1         0.1         0.1         0.1\n",
      "  0.1         0.1         0.1         0.1         0.1         0.4137255\n",
      "  0.90000004  0.89058828  0.90000004  0.90000004  0.90000004  0.90000004\n",
      "  0.90000004  0.90000004  0.90000004  0.90000004  0.90000004  0.90000004\n",
      "  0.89058828  0.90000004  0.59254903  0.1         0.10941177  0.1         0.1\n",
      "  0.1         0.1         0.1         0.1         0.1         0.1         0.1\n",
      "  0.10313725  0.73372555  0.90000004  0.89372557  0.90000004  0.90000004\n",
      "  0.90000004  0.90000004  0.90000004  0.90000004  0.90000004  0.90000004\n",
      "  0.90000004  0.90000004  0.90000004  0.89686275  0.25999999  0.1\n",
      "  0.10627451  0.1         0.1         0.1         0.1         0.1         0.1\n",
      "  0.1         0.1         0.1         0.37921569  0.90000004  0.89686275\n",
      "  0.90000004  0.90000004  0.90000004  0.90000004  0.90000004  0.90000004\n",
      "  0.90000004  0.90000004  0.90000004  0.90000004  0.89058828  0.90000004\n",
      "  0.63960791  0.1         0.10627451  0.1         0.1         0.1         0.1\n",
      "  0.1         0.1         0.1         0.1         0.1         0.1\n",
      "  0.71176475  0.90000004  0.89372557  0.90000004  0.90000004  0.90000004\n",
      "  0.90000004  0.90000004  0.90000004  0.90000004  0.90000004  0.90000004\n",
      "  0.90000004  0.90000004  0.90000004  0.31647059  0.1         0.10941177\n",
      "  0.1         0.1         0.1         0.1         0.1         0.1         0.1\n",
      "  0.1         0.1         0.1       ]\n",
      "[0 0 0 0 0 0 0 0 1 0]\n"
     ]
    }
   ],
   "source": [
    "mbatches = batches(batch_size, train_features, train_labels)\n",
    "print(len(mbatches))\n",
    "batch_x, batch_y = batch\n",
    "print(batch_x[0])\n",
    "print(batch_y[0])"
   ]
  },
  {
   "cell_type": "code",
   "execution_count": 45,
   "metadata": {
    "collapsed": false
   },
   "outputs": [
    {
     "name": "stderr",
     "output_type": "stream",
     "text": [
      "\r",
      "Epoch  1/5:   0%|          | 0/1114 [00:00<?, ?batches/s]"
     ]
    },
    {
     "name": "stdout",
     "output_type": "stream",
     "text": [
      "\r",
      "Progress: 0.0% ... Training loss: 433.9 ... Validation accuracy: 0.149"
     ]
    },
    {
     "name": "stderr",
     "output_type": "stream",
     "text": [
      "Epoch  1/5:   4%|▎         | 41/1114 [00:02<19:11,  1.07s/batches]"
     ]
    },
    {
     "name": "stdout",
     "output_type": "stream",
     "text": [
      "\r",
      "Progress: 4.5% ... Training loss: 9.883 ... Validation accuracy: 0.64"
     ]
    },
    {
     "name": "stderr",
     "output_type": "stream",
     "text": [
      "Epoch  1/5:   8%|▊         | 90/1114 [00:04<06:43,  2.54batches/s]"
     ]
    },
    {
     "name": "stdout",
     "output_type": "stream",
     "text": [
      "\r",
      "Progress: 9.0% ... Training loss: 7.970 ... Validation accuracy: 0.634"
     ]
    },
    {
     "name": "stderr",
     "output_type": "stream",
     "text": [
      "Epoch  1/5:  13%|█▎        | 141/1114 [00:06<02:32,  6.37batches/s]"
     ]
    },
    {
     "name": "stdout",
     "output_type": "stream",
     "text": [
      "\r",
      "Progress: 13.5% ... Training loss: 5.891 ... Validation accuracy: 0.631"
     ]
    },
    {
     "name": "stderr",
     "output_type": "stream",
     "text": [
      "Epoch  1/5:  18%|█▊        | 195/1114 [00:08<01:07, 13.57batches/s]"
     ]
    },
    {
     "name": "stdout",
     "output_type": "stream",
     "text": [
      "\r",
      "Progress: 18.0% ... Training loss: 4.821 ... Validation accuracy: 0.624"
     ]
    },
    {
     "name": "stderr",
     "output_type": "stream",
     "text": [
      "Epoch  1/5:  21%|██        | 231/1114 [00:09<00:53, 16.57batches/s]"
     ]
    },
    {
     "name": "stdout",
     "output_type": "stream",
     "text": [
      "\r",
      "Progress: 22.4% ... Training loss: 4.917 ... Validation accuracy: 0.616"
     ]
    },
    {
     "name": "stderr",
     "output_type": "stream",
     "text": [
      "Epoch  1/5:  27%|██▋       | 299/1114 [00:12<00:22, 35.74batches/s]"
     ]
    },
    {
     "name": "stdout",
     "output_type": "stream",
     "text": [
      "\r",
      "Progress: 26.9% ... Training loss: 4.632 ... Validation accuracy: 0.612"
     ]
    },
    {
     "name": "stderr",
     "output_type": "stream",
     "text": [
      "Epoch  1/5:  30%|██▉       | 331/1114 [00:13<00:33, 23.22batches/s]"
     ]
    },
    {
     "name": "stdout",
     "output_type": "stream",
     "text": [
      "\r",
      "Progress: 31.4% ... Training loss: 2.869 ... Validation accuracy: 0.607"
     ]
    },
    {
     "name": "stderr",
     "output_type": "stream",
     "text": [
      "Epoch  1/5:  35%|███▍      | 388/1114 [00:15<00:22, 32.61batches/s]"
     ]
    },
    {
     "name": "stdout",
     "output_type": "stream",
     "text": [
      "\r",
      "Progress: 35.9% ... Training loss: 2.555 ... Validation accuracy: 0.601"
     ]
    },
    {
     "name": "stderr",
     "output_type": "stream",
     "text": [
      "Epoch  1/5:  39%|███▉      | 433/1114 [00:17<00:21, 31.79batches/s]"
     ]
    },
    {
     "name": "stdout",
     "output_type": "stream",
     "text": [
      "\r",
      "Progress: 40.4% ... Training loss: 3.838 ... Validation accuracy: 0.614"
     ]
    },
    {
     "name": "stderr",
     "output_type": "stream",
     "text": [
      "Epoch  1/5:  44%|████▍     | 490/1114 [00:19<00:17, 36.32batches/s]"
     ]
    },
    {
     "name": "stdout",
     "output_type": "stream",
     "text": [
      "\r",
      "Progress: 44.9% ... Training loss: 3.243 ... Validation accuracy: 0.634"
     ]
    },
    {
     "name": "stderr",
     "output_type": "stream",
     "text": [
      "Epoch  1/5:  49%|████▊     | 541/1114 [00:21<00:17, 32.95batches/s]"
     ]
    },
    {
     "name": "stdout",
     "output_type": "stream",
     "text": [
      "\r",
      "Progress: 49.4% ... Training loss: 2.911 ... Validation accuracy: 0.631"
     ]
    },
    {
     "name": "stderr",
     "output_type": "stream",
     "text": [
      "Epoch  1/5:  54%|█████▍    | 599/1114 [00:23<00:15, 33.10batches/s]"
     ]
    },
    {
     "name": "stdout",
     "output_type": "stream",
     "text": [
      "\r",
      "Progress: 53.9% ... Training loss: 2.422 ... Validation accuracy: 0.635"
     ]
    },
    {
     "name": "stderr",
     "output_type": "stream",
     "text": [
      "Epoch  1/5:  57%|█████▋    | 634/1114 [00:25<00:19, 24.09batches/s]"
     ]
    },
    {
     "name": "stdout",
     "output_type": "stream",
     "text": [
      "\r",
      "Progress: 58.3% ... Training loss: 1.937 ... Validation accuracy: 0.644"
     ]
    },
    {
     "name": "stderr",
     "output_type": "stream",
     "text": [
      "Epoch  1/5:  62%|██████▏   | 691/1114 [00:27<00:13, 31.96batches/s]"
     ]
    },
    {
     "name": "stdout",
     "output_type": "stream",
     "text": [
      "\r",
      "Progress: 62.8% ... Training loss: 1.875 ... Validation accuracy: 0.642"
     ]
    },
    {
     "name": "stderr",
     "output_type": "stream",
     "text": [
      "Epoch  1/5:  67%|██████▋   | 745/1114 [00:29<00:10, 33.71batches/s]"
     ]
    },
    {
     "name": "stdout",
     "output_type": "stream",
     "text": [
      "\r",
      "Progress: 67.3% ... Training loss: 1.499 ... Validation accuracy: 0.643"
     ]
    },
    {
     "name": "stderr",
     "output_type": "stream",
     "text": [
      "Epoch  1/5:  72%|███████▏  | 797/1114 [00:31<00:09, 33.81batches/s]"
     ]
    },
    {
     "name": "stdout",
     "output_type": "stream",
     "text": [
      "\r",
      "Progress: 71.8% ... Training loss: 1.564 ... Validation accuracy: 0.648"
     ]
    },
    {
     "name": "stderr",
     "output_type": "stream",
     "text": [
      "Epoch  1/5:  76%|███████▋  | 850/1114 [00:33<00:07, 33.79batches/s]"
     ]
    },
    {
     "name": "stdout",
     "output_type": "stream",
     "text": [
      "\r",
      "Progress: 76.3% ... Training loss: 2.033 ... Validation accuracy: 0.647"
     ]
    },
    {
     "name": "stderr",
     "output_type": "stream",
     "text": [
      "Epoch  1/5:  79%|███████▉  | 883/1114 [00:35<00:09, 24.87batches/s]"
     ]
    },
    {
     "name": "stdout",
     "output_type": "stream",
     "text": [
      "\r",
      "Progress: 80.8% ... Training loss: 1.979 ... Validation accuracy: 0.660"
     ]
    },
    {
     "name": "stderr",
     "output_type": "stream",
     "text": [
      "Epoch  1/5:  84%|████████▍ | 939/1114 [00:37<00:05, 31.78batches/s]"
     ]
    },
    {
     "name": "stdout",
     "output_type": "stream",
     "text": [
      "\r",
      "Progress: 85.3% ... Training loss: 2.040 ... Validation accuracy: 0.657"
     ]
    },
    {
     "name": "stderr",
     "output_type": "stream",
     "text": [
      "Epoch  1/5:  89%|████████▊ | 986/1114 [00:39<00:04, 30.39batches/s]"
     ]
    },
    {
     "name": "stdout",
     "output_type": "stream",
     "text": [
      "\r",
      "Progress: 89.8% ... Training loss: 1.248 ... Validation accuracy: 0.663"
     ]
    },
    {
     "name": "stderr",
     "output_type": "stream",
     "text": [
      "Epoch  1/5:  94%|█████████▎| 1042/1114 [00:41<00:02, 32.69batches/s]"
     ]
    },
    {
     "name": "stdout",
     "output_type": "stream",
     "text": [
      "\r",
      "Progress: 94.3% ... Training loss: 1.059 ... Validation accuracy: 0.676"
     ]
    },
    {
     "name": "stderr",
     "output_type": "stream",
     "text": [
      "Epoch  1/5:  98%|█████████▊| 1094/1114 [00:43<00:00, 33.09batches/s]"
     ]
    },
    {
     "name": "stdout",
     "output_type": "stream",
     "text": [
      "\r",
      "Progress: 98.7% ... Training loss: 1.503 ... Validation accuracy: 0.676"
     ]
    },
    {
     "name": "stderr",
     "output_type": "stream",
     "text": [
      "Epoch  1/5: 100%|██████████| 1114/1114 [00:45<00:00, 24.65batches/s]\n",
      "Epoch  2/5:   0%|          | 0/1114 [00:00<?, ?batches/s]"
     ]
    },
    {
     "name": "stdout",
     "output_type": "stream",
     "text": [
      "\r",
      "Progress: 0.0% ... Training loss: 1.182 ... Validation accuracy: 0.674"
     ]
    },
    {
     "name": "stderr",
     "output_type": "stream",
     "text": [
      "Epoch  2/5:   4%|▎         | 39/1114 [00:02<16:19,  1.10batches/s]"
     ]
    },
    {
     "name": "stdout",
     "output_type": "stream",
     "text": [
      "\r",
      "Progress: 4.5% ... Training loss: 1.240 ... Validation accuracy: 0.683"
     ]
    },
    {
     "name": "stderr",
     "output_type": "stream",
     "text": [
      "Epoch  2/5:   8%|▊         | 94/1114 [00:04<05:43,  2.97batches/s]"
     ]
    },
    {
     "name": "stdout",
     "output_type": "stream",
     "text": [
      "\r",
      "Progress: 9.0% ... Training loss: 1.479 ... Validation accuracy: 0.683"
     ]
    },
    {
     "name": "stderr",
     "output_type": "stream",
     "text": [
      "Epoch  2/5:  12%|█▏        | 130/1114 [00:05<03:05,  5.30batches/s]"
     ]
    },
    {
     "name": "stdout",
     "output_type": "stream",
     "text": [
      "\r",
      "Progress: 13.5% ... Training loss: 1.366 ... Validation accuracy: 0.688"
     ]
    },
    {
     "name": "stderr",
     "output_type": "stream",
     "text": [
      "Epoch  2/5:  17%|█▋        | 194/1114 [00:07<01:12, 12.73batches/s]"
     ]
    },
    {
     "name": "stdout",
     "output_type": "stream",
     "text": [
      "\r",
      "Progress: 18.0% ... Training loss: 1.436 ... Validation accuracy: 0.695"
     ]
    },
    {
     "name": "stderr",
     "output_type": "stream",
     "text": [
      "Epoch  2/5:  21%|██        | 231/1114 [00:09<00:54, 16.11batches/s]"
     ]
    },
    {
     "name": "stdout",
     "output_type": "stream",
     "text": [
      "\r",
      "Progress: 22.4% ... Training loss: 1.319 ... Validation accuracy: 0.688"
     ]
    },
    {
     "name": "stderr",
     "output_type": "stream",
     "text": [
      "Epoch  2/5:  26%|██▌       | 292/1114 [00:11<00:30, 27.18batches/s]"
     ]
    },
    {
     "name": "stdout",
     "output_type": "stream",
     "text": [
      "\r",
      "Progress: 26.9% ... Training loss: 1.377 ... Validation accuracy: 0.692"
     ]
    },
    {
     "name": "stderr",
     "output_type": "stream",
     "text": [
      "Epoch  2/5:  31%|███▏      | 349/1114 [00:13<00:23, 32.36batches/s]"
     ]
    },
    {
     "name": "stdout",
     "output_type": "stream",
     "text": [
      "\r",
      "Progress: 31.4% ... Training loss: 1.185 ... Validation accuracy: 0.693"
     ]
    },
    {
     "name": "stderr",
     "output_type": "stream",
     "text": [
      "Epoch  2/5:  35%|███▍      | 386/1114 [00:14<00:27, 26.29batches/s]"
     ]
    },
    {
     "name": "stdout",
     "output_type": "stream",
     "text": [
      "\r",
      "Progress: 35.9% ... Training loss: 1.105 ... Validation accuracy: 0.696"
     ]
    },
    {
     "name": "stderr",
     "output_type": "stream",
     "text": [
      "Epoch  2/5:  40%|████      | 450/1114 [00:17<00:17, 38.65batches/s]"
     ]
    },
    {
     "name": "stdout",
     "output_type": "stream",
     "text": [
      "\r",
      "Progress: 40.4% ... Training loss: 1.466 ... Validation accuracy: 0.698"
     ]
    },
    {
     "name": "stderr",
     "output_type": "stream",
     "text": [
      "Epoch  2/5:  43%|████▎     | 484/1114 [00:19<00:24, 25.25batches/s]"
     ]
    },
    {
     "name": "stdout",
     "output_type": "stream",
     "text": [
      "\r",
      "Progress: 44.9% ... Training loss: 1.652 ... Validation accuracy: 0.706"
     ]
    },
    {
     "name": "stderr",
     "output_type": "stream",
     "text": [
      "Epoch  2/5:  48%|████▊     | 539/1114 [00:20<00:18, 31.90batches/s]"
     ]
    },
    {
     "name": "stdout",
     "output_type": "stream",
     "text": [
      "\r",
      "Progress: 49.4% ... Training loss: 1.470 ... Validation accuracy: 0.713"
     ]
    },
    {
     "name": "stderr",
     "output_type": "stream",
     "text": [
      "Epoch  2/5:  53%|█████▎    | 590/1114 [00:22<00:16, 31.39batches/s]"
     ]
    },
    {
     "name": "stdout",
     "output_type": "stream",
     "text": [
      "\r",
      "Progress: 53.9% ... Training loss: 1.366 ... Validation accuracy: 0.710"
     ]
    },
    {
     "name": "stderr",
     "output_type": "stream",
     "text": [
      "Epoch  2/5:  58%|█████▊    | 644/1114 [00:24<00:14, 32.76batches/s]"
     ]
    },
    {
     "name": "stdout",
     "output_type": "stream",
     "text": [
      "\r",
      "Progress: 58.3% ... Training loss: 1.011 ... Validation accuracy: 0.710"
     ]
    },
    {
     "name": "stderr",
     "output_type": "stream",
     "text": [
      "Epoch  2/5:  62%|██████▏   | 696/1114 [00:26<00:12, 33.10batches/s]"
     ]
    },
    {
     "name": "stdout",
     "output_type": "stream",
     "text": [
      "\r",
      "Progress: 62.8% ... Training loss: 1.190 ... Validation accuracy: 0.709"
     ]
    },
    {
     "name": "stderr",
     "output_type": "stream",
     "text": [
      "Epoch  2/5:  66%|██████▌   | 732/1114 [00:28<00:15, 24.68batches/s]"
     ]
    },
    {
     "name": "stdout",
     "output_type": "stream",
     "text": [
      "\r",
      "Progress: 67.3% ... Training loss: 0.922 ... Validation accuracy: 0.715"
     ]
    },
    {
     "name": "stderr",
     "output_type": "stream",
     "text": [
      "Epoch  2/5:  71%|███████   | 789/1114 [00:30<00:09, 33.16batches/s]"
     ]
    },
    {
     "name": "stdout",
     "output_type": "stream",
     "text": [
      "\r",
      "Progress: 71.8% ... Training loss: 0.945 ... Validation accuracy: 0.711"
     ]
    },
    {
     "name": "stderr",
     "output_type": "stream",
     "text": [
      "Epoch  2/5:  76%|███████▌  | 844/1114 [00:32<00:08, 32.74batches/s]"
     ]
    },
    {
     "name": "stdout",
     "output_type": "stream",
     "text": [
      "\r",
      "Progress: 76.3% ... Training loss: 1.37 ... Validation accuracy: 0.714"
     ]
    },
    {
     "name": "stderr",
     "output_type": "stream",
     "text": [
      "Epoch  2/5:  81%|████████  | 900/1114 [00:34<00:06, 35.05batches/s]"
     ]
    },
    {
     "name": "stdout",
     "output_type": "stream",
     "text": [
      "\r",
      "Progress: 80.8% ... Training loss: 1.217 ... Validation accuracy: 0.729"
     ]
    },
    {
     "name": "stderr",
     "output_type": "stream",
     "text": [
      "Epoch  2/5:  84%|████████▍ | 937/1114 [00:36<00:06, 26.84batches/s]"
     ]
    },
    {
     "name": "stdout",
     "output_type": "stream",
     "text": [
      "\r",
      "Progress: 85.3% ... Training loss: 1.547 ... Validation accuracy: 0.718"
     ]
    },
    {
     "name": "stderr",
     "output_type": "stream",
     "text": [
      "Epoch  2/5:  89%|████████▉ | 989/1114 [00:38<00:04, 30.39batches/s]"
     ]
    },
    {
     "name": "stdout",
     "output_type": "stream",
     "text": [
      "\r",
      "Progress: 89.8% ... Training loss: 0.880 ... Validation accuracy: 0.724"
     ]
    },
    {
     "name": "stderr",
     "output_type": "stream",
     "text": [
      "Epoch  2/5:  94%|█████████▍| 1049/1114 [00:40<00:01, 39.55batches/s]"
     ]
    },
    {
     "name": "stdout",
     "output_type": "stream",
     "text": [
      "\r",
      "Progress: 94.3% ... Training loss: 0.773 ... Validation accuracy: 0.721"
     ]
    },
    {
     "name": "stderr",
     "output_type": "stream",
     "text": [
      "Epoch  2/5:  97%|█████████▋| 1081/1114 [00:42<00:01, 23.17batches/s]"
     ]
    },
    {
     "name": "stdout",
     "output_type": "stream",
     "text": [
      "\r",
      "Progress: 98.7% ... Training loss: 1.054 ... Validation accuracy: 0.728"
     ]
    },
    {
     "name": "stderr",
     "output_type": "stream",
     "text": [
      "Epoch  2/5: 100%|██████████| 1114/1114 [00:43<00:00, 25.36batches/s]\n",
      "Epoch  3/5:   0%|          | 0/1114 [00:00<?, ?batches/s]"
     ]
    },
    {
     "name": "stdout",
     "output_type": "stream",
     "text": [
      "\r",
      "Progress: 0.0% ... Training loss: 0.979 ... Validation accuracy: 0.725"
     ]
    },
    {
     "name": "stderr",
     "output_type": "stream",
     "text": [
      "Epoch  3/5:   4%|▎         | 41/1114 [00:02<16:29,  1.08batches/s]"
     ]
    },
    {
     "name": "stdout",
     "output_type": "stream",
     "text": [
      "\r",
      "Progress: 4.5% ... Training loss: 0.916 ... Validation accuracy: 0.730"
     ]
    },
    {
     "name": "stderr",
     "output_type": "stream",
     "text": [
      "Epoch  3/5:   8%|▊         | 91/1114 [00:03<05:49,  2.93batches/s]"
     ]
    },
    {
     "name": "stdout",
     "output_type": "stream",
     "text": [
      "\r",
      "Progress: 9.0% ... Training loss: 1.028 ... Validation accuracy: 0.733"
     ]
    },
    {
     "name": "stderr",
     "output_type": "stream",
     "text": [
      "Epoch  3/5:  13%|█▎        | 144/1114 [00:05<02:13,  7.27batches/s]"
     ]
    },
    {
     "name": "stdout",
     "output_type": "stream",
     "text": [
      "\r",
      "Progress: 13.5% ... Training loss: 1.060 ... Validation accuracy: 0.732"
     ]
    },
    {
     "name": "stderr",
     "output_type": "stream",
     "text": [
      "Epoch  3/5:  18%|█▊        | 199/1114 [00:07<01:01, 14.88batches/s]"
     ]
    },
    {
     "name": "stdout",
     "output_type": "stream",
     "text": [
      "\r",
      "Progress: 18.0% ... Training loss: 1.052 ... Validation accuracy: 0.732"
     ]
    },
    {
     "name": "stderr",
     "output_type": "stream",
     "text": [
      "Epoch  3/5:  21%|██        | 234/1114 [00:09<00:51, 17.20batches/s]"
     ]
    },
    {
     "name": "stdout",
     "output_type": "stream",
     "text": [
      "\r",
      "Progress: 22.4% ... Training loss: 1.045 ... Validation accuracy: 0.732"
     ]
    },
    {
     "name": "stderr",
     "output_type": "stream",
     "text": [
      "Epoch  3/5:  26%|██▌       | 290/1114 [00:11<00:31, 26.25batches/s]"
     ]
    },
    {
     "name": "stdout",
     "output_type": "stream",
     "text": [
      "\r",
      "Progress: 26.9% ... Training loss: 1.042 ... Validation accuracy: 0.729"
     ]
    },
    {
     "name": "stderr",
     "output_type": "stream",
     "text": [
      "Epoch  3/5:  31%|███       | 345/1114 [00:13<00:24, 30.90batches/s]"
     ]
    },
    {
     "name": "stdout",
     "output_type": "stream",
     "text": [
      "\r",
      "Progress: 31.4% ... Training loss: 0.922 ... Validation accuracy: 0.741"
     ]
    },
    {
     "name": "stderr",
     "output_type": "stream",
     "text": [
      "Epoch  3/5:  36%|███▌      | 400/1114 [00:15<00:21, 32.98batches/s]"
     ]
    },
    {
     "name": "stdout",
     "output_type": "stream",
     "text": [
      "\r",
      "Progress: 35.9% ... Training loss: 0.884 ... Validation accuracy: 0.740"
     ]
    },
    {
     "name": "stderr",
     "output_type": "stream",
     "text": [
      "Epoch  3/5:  39%|███▉      | 436/1114 [00:17<00:25, 26.46batches/s]"
     ]
    },
    {
     "name": "stdout",
     "output_type": "stream",
     "text": [
      "\r",
      "Progress: 40.4% ... Training loss: 1.181 ... Validation accuracy: 0.735"
     ]
    },
    {
     "name": "stderr",
     "output_type": "stream",
     "text": [
      "Epoch  3/5:  44%|████▍     | 492/1114 [00:19<00:20, 30.25batches/s]"
     ]
    },
    {
     "name": "stdout",
     "output_type": "stream",
     "text": [
      "\r",
      "Progress: 44.9% ... Training loss: 1.449 ... Validation accuracy: 0.743"
     ]
    },
    {
     "name": "stderr",
     "output_type": "stream",
     "text": [
      "Epoch  3/5:  49%|████▉     | 549/1114 [00:21<00:16, 34.07batches/s]"
     ]
    },
    {
     "name": "stdout",
     "output_type": "stream",
     "text": [
      "\r",
      "Progress: 49.4% ... Training loss: 1.095 ... Validation accuracy: 0.743"
     ]
    },
    {
     "name": "stderr",
     "output_type": "stream",
     "text": [
      "Epoch  3/5:  53%|█████▎    | 587/1114 [00:22<00:19, 27.20batches/s]"
     ]
    },
    {
     "name": "stdout",
     "output_type": "stream",
     "text": [
      "\r",
      "Progress: 53.9% ... Training loss: 1.140 ... Validation accuracy: 0.742"
     ]
    },
    {
     "name": "stderr",
     "output_type": "stream",
     "text": [
      "Epoch  3/5:  58%|█████▊    | 643/1114 [00:24<00:15, 30.84batches/s]"
     ]
    },
    {
     "name": "stdout",
     "output_type": "stream",
     "text": [
      "\r",
      "Progress: 58.3% ... Training loss: 0.873 ... Validation accuracy: 0.744"
     ]
    },
    {
     "name": "stderr",
     "output_type": "stream",
     "text": [
      "Epoch  3/5:  61%|██████    | 680/1114 [00:26<00:17, 25.24batches/s]"
     ]
    },
    {
     "name": "stdout",
     "output_type": "stream",
     "text": [
      "\r",
      "Progress: 62.8% ... Training loss: 1.018 ... Validation accuracy: 0.737"
     ]
    },
    {
     "name": "stderr",
     "output_type": "stream",
     "text": [
      "Epoch  3/5:  67%|██████▋   | 744/1114 [00:28<00:10, 36.12batches/s]"
     ]
    },
    {
     "name": "stdout",
     "output_type": "stream",
     "text": [
      "\r",
      "Progress: 67.3% ... Training loss: 0.780 ... Validation accuracy: 0.746"
     ]
    },
    {
     "name": "stderr",
     "output_type": "stream",
     "text": [
      "Epoch  3/5:  72%|███████▏  | 798/1114 [00:30<00:08, 35.77batches/s]"
     ]
    },
    {
     "name": "stdout",
     "output_type": "stream",
     "text": [
      "\r",
      "Progress: 71.8% ... Training loss: 0.819 ... Validation accuracy: 0.746"
     ]
    },
    {
     "name": "stderr",
     "output_type": "stream",
     "text": [
      "Epoch  3/5:  76%|███████▋  | 850/1114 [00:32<00:07, 34.50batches/s]"
     ]
    },
    {
     "name": "stdout",
     "output_type": "stream",
     "text": [
      "\r",
      "Progress: 76.3% ... Training loss: 1.260 ... Validation accuracy: 0.741"
     ]
    },
    {
     "name": "stderr",
     "output_type": "stream",
     "text": [
      "Epoch  3/5:  81%|████████  | 900/1114 [00:34<00:07, 29.21batches/s]"
     ]
    },
    {
     "name": "stdout",
     "output_type": "stream",
     "text": [
      "\r",
      "Progress: 80.8% ... Training loss: 1.013 ... Validation accuracy: 0.752"
     ]
    },
    {
     "name": "stderr",
     "output_type": "stream",
     "text": [
      "Epoch  3/5:  84%|████████▍ | 934/1114 [00:36<00:08, 21.96batches/s]"
     ]
    },
    {
     "name": "stdout",
     "output_type": "stream",
     "text": [
      "\r",
      "Progress: 85.3% ... Training loss: 1.341 ... Validation accuracy: 0.749"
     ]
    },
    {
     "name": "stderr",
     "output_type": "stream",
     "text": [
      "Epoch  3/5:  88%|████████▊ | 982/1114 [00:38<00:03, 34.82batches/s]"
     ]
    },
    {
     "name": "stdout",
     "output_type": "stream",
     "text": [
      "\r",
      "Progress: 89.8% ... Training loss: 0.759 ... Validation accuracy: 0.751"
     ]
    },
    {
     "name": "stderr",
     "output_type": "stream",
     "text": [
      "Epoch  3/5:  94%|█████████▎| 1044/1114 [00:40<00:01, 38.01batches/s]"
     ]
    },
    {
     "name": "stdout",
     "output_type": "stream",
     "text": [
      "\r",
      "Progress: 94.3% ... Training loss: 0.714 ... Validation accuracy: 0.745"
     ]
    },
    {
     "name": "stderr",
     "output_type": "stream",
     "text": [
      "Epoch  3/5:  97%|█████████▋| 1080/1114 [00:42<00:01, 25.43batches/s]"
     ]
    },
    {
     "name": "stdout",
     "output_type": "stream",
     "text": [
      "\r",
      "Progress: 98.7% ... Training loss: 0.901 ... Validation accuracy: 0.752"
     ]
    },
    {
     "name": "stderr",
     "output_type": "stream",
     "text": [
      "Epoch  3/5: 100%|██████████| 1114/1114 [00:44<00:00, 25.20batches/s]\n",
      "Epoch  4/5:   0%|          | 0/1114 [00:00<?, ?batches/s]"
     ]
    },
    {
     "name": "stdout",
     "output_type": "stream",
     "text": [
      "\r",
      "Progress: 0.0% ... Training loss: 0.950 ... Validation accuracy: 0.748"
     ]
    },
    {
     "name": "stderr",
     "output_type": "stream",
     "text": [
      "Epoch  4/5:   4%|▎         | 41/1114 [00:01<14:28,  1.23batches/s]"
     ]
    },
    {
     "name": "stdout",
     "output_type": "stream",
     "text": [
      "\r",
      "Progress: 4.5% ... Training loss: 0.808 ... Validation accuracy: 0.752"
     ]
    },
    {
     "name": "stderr",
     "output_type": "stream",
     "text": [
      "Epoch  4/5:   8%|▊         | 90/1114 [00:03<05:13,  3.26batches/s]"
     ]
    },
    {
     "name": "stdout",
     "output_type": "stream",
     "text": [
      "\r",
      "Progress: 9.0% ... Training loss: 0.891 ... Validation accuracy: 0.757"
     ]
    },
    {
     "name": "stderr",
     "output_type": "stream",
     "text": [
      "Epoch  4/5:  13%|█▎        | 147/1114 [00:05<02:01,  7.94batches/s]"
     ]
    },
    {
     "name": "stdout",
     "output_type": "stream",
     "text": [
      "\r",
      "Progress: 13.5% ... Training loss: 0.945 ... Validation accuracy: 0.752"
     ]
    },
    {
     "name": "stderr",
     "output_type": "stream",
     "text": [
      "Epoch  4/5:  16%|█▋        | 183/1114 [00:07<01:19, 11.66batches/s]"
     ]
    },
    {
     "name": "stdout",
     "output_type": "stream",
     "text": [
      "\r",
      "Progress: 18.0% ... Training loss: 0.963 ... Validation accuracy: 0.749"
     ]
    },
    {
     "name": "stderr",
     "output_type": "stream",
     "text": [
      "Epoch  4/5:  22%|██▏       | 245/1114 [00:09<00:40, 21.55batches/s]"
     ]
    },
    {
     "name": "stdout",
     "output_type": "stream",
     "text": [
      "\r",
      "Progress: 22.4% ... Training loss: 0.931 ... Validation accuracy: 0.755"
     ]
    },
    {
     "name": "stderr",
     "output_type": "stream",
     "text": [
      "Epoch  4/5:  25%|██▌       | 283/1114 [00:11<00:37, 22.14batches/s]"
     ]
    },
    {
     "name": "stdout",
     "output_type": "stream",
     "text": [
      "\r",
      "Progress: 26.9% ... Training loss: 0.924 ... Validation accuracy: 0.743"
     ]
    },
    {
     "name": "stderr",
     "output_type": "stream",
     "text": [
      "Epoch  4/5:  31%|███       | 345/1114 [00:13<00:23, 32.10batches/s]"
     ]
    },
    {
     "name": "stdout",
     "output_type": "stream",
     "text": [
      "\r",
      "Progress: 31.4% ... Training loss: 0.805 ... Validation accuracy: 0.757"
     ]
    },
    {
     "name": "stderr",
     "output_type": "stream",
     "text": [
      "Epoch  4/5:  34%|███▍      | 382/1114 [00:14<00:27, 26.44batches/s]"
     ]
    },
    {
     "name": "stdout",
     "output_type": "stream",
     "text": [
      "\r",
      "Progress: 35.9% ... Training loss: 0.810 ... Validation accuracy: 0.751"
     ]
    },
    {
     "name": "stderr",
     "output_type": "stream",
     "text": [
      "Epoch  4/5:  40%|███▉      | 444/1114 [00:16<00:18, 35.85batches/s]"
     ]
    },
    {
     "name": "stdout",
     "output_type": "stream",
     "text": [
      "\r",
      "Progress: 40.4% ... Training loss: 1.099 ... Validation accuracy: 0.746"
     ]
    },
    {
     "name": "stderr",
     "output_type": "stream",
     "text": [
      "Epoch  4/5:  43%|████▎     | 481/1114 [00:18<00:23, 27.40batches/s]"
     ]
    },
    {
     "name": "stdout",
     "output_type": "stream",
     "text": [
      "\r",
      "Progress: 44.9% ... Training loss: 1.294 ... Validation accuracy: 0.758"
     ]
    },
    {
     "name": "stderr",
     "output_type": "stream",
     "text": [
      "Epoch  4/5:  49%|████▉     | 545/1114 [00:20<00:15, 37.09batches/s]"
     ]
    },
    {
     "name": "stdout",
     "output_type": "stream",
     "text": [
      "\r",
      "Progress: 49.4% ... Training loss: 1.009 ... Validation accuracy: 0.757"
     ]
    },
    {
     "name": "stderr",
     "output_type": "stream",
     "text": [
      "Epoch  4/5:  52%|█████▏    | 583/1114 [00:21<00:19, 27.93batches/s]"
     ]
    },
    {
     "name": "stdout",
     "output_type": "stream",
     "text": [
      "\r",
      "Progress: 53.9% ... Training loss: 1.040 ... Validation accuracy: 0.756"
     ]
    },
    {
     "name": "stderr",
     "output_type": "stream",
     "text": [
      "Epoch  4/5:  58%|█████▊    | 642/1114 [00:23<00:13, 35.55batches/s]"
     ]
    },
    {
     "name": "stdout",
     "output_type": "stream",
     "text": [
      "\r",
      "Progress: 58.3% ... Training loss: 0.789 ... Validation accuracy: 0.758"
     ]
    },
    {
     "name": "stderr",
     "output_type": "stream",
     "text": [
      "Epoch  4/5:  61%|██████    | 680/1114 [00:25<00:15, 27.66batches/s]"
     ]
    },
    {
     "name": "stdout",
     "output_type": "stream",
     "text": [
      "\r",
      "Progress: 62.8% ... Training loss: 0.942 ... Validation accuracy: 0.749"
     ]
    },
    {
     "name": "stderr",
     "output_type": "stream",
     "text": [
      "Epoch  4/5:  67%|██████▋   | 745/1114 [00:27<00:09, 38.24batches/s]"
     ]
    },
    {
     "name": "stdout",
     "output_type": "stream",
     "text": [
      "\r",
      "Progress: 67.3% ... Training loss: 0.718 ... Validation accuracy: 0.757"
     ]
    },
    {
     "name": "stderr",
     "output_type": "stream",
     "text": [
      "Epoch  4/5:  70%|███████   | 783/1114 [00:29<00:11, 28.28batches/s]"
     ]
    },
    {
     "name": "stdout",
     "output_type": "stream",
     "text": [
      "\r",
      "Progress: 71.8% ... Training loss: 0.770 ... Validation accuracy: 0.757"
     ]
    },
    {
     "name": "stderr",
     "output_type": "stream",
     "text": [
      "Epoch  4/5:  76%|███████▌  | 843/1114 [00:30<00:07, 36.11batches/s]"
     ]
    },
    {
     "name": "stdout",
     "output_type": "stream",
     "text": [
      "\r",
      "Progress: 76.3% ... Training loss: 1.174 ... Validation accuracy: 0.758"
     ]
    },
    {
     "name": "stderr",
     "output_type": "stream",
     "text": [
      "Epoch  4/5:  79%|███████▉  | 881/1114 [00:32<00:08, 27.77batches/s]"
     ]
    },
    {
     "name": "stdout",
     "output_type": "stream",
     "text": [
      "\r",
      "Progress: 80.8% ... Training loss: 0.927 ... Validation accuracy: 0.761"
     ]
    },
    {
     "name": "stderr",
     "output_type": "stream",
     "text": [
      "Epoch  4/5:  85%|████████▍ | 944/1114 [00:34<00:04, 37.31batches/s]"
     ]
    },
    {
     "name": "stdout",
     "output_type": "stream",
     "text": [
      "\r",
      "Progress: 85.3% ... Training loss: 1.164 ... Validation accuracy: 0.762"
     ]
    },
    {
     "name": "stderr",
     "output_type": "stream",
     "text": [
      "Epoch  4/5:  88%|████████▊ | 981/1114 [00:36<00:04, 28.00batches/s]"
     ]
    },
    {
     "name": "stdout",
     "output_type": "stream",
     "text": [
      "\r",
      "Progress: 89.8% ... Training loss: 0.714 ... Validation accuracy: 0.76"
     ]
    },
    {
     "name": "stderr",
     "output_type": "stream",
     "text": [
      "Epoch  4/5:  94%|█████████▎| 1044/1114 [00:37<00:01, 37.57batches/s]"
     ]
    },
    {
     "name": "stdout",
     "output_type": "stream",
     "text": [
      "\r",
      "Progress: 94.3% ... Training loss: 0.646 ... Validation accuracy: 0.758"
     ]
    },
    {
     "name": "stderr",
     "output_type": "stream",
     "text": [
      "Epoch  4/5:  97%|█████████▋| 1082/1114 [00:39<00:01, 28.15batches/s]"
     ]
    },
    {
     "name": "stdout",
     "output_type": "stream",
     "text": [
      "\r",
      "Progress: 98.7% ... Training loss: 0.852 ... Validation accuracy: 0.764"
     ]
    },
    {
     "name": "stderr",
     "output_type": "stream",
     "text": [
      "Epoch  4/5: 100%|██████████| 1114/1114 [00:41<00:00, 26.96batches/s]\n",
      "Epoch  5/5:   0%|          | 0/1114 [00:00<?, ?batches/s]"
     ]
    },
    {
     "name": "stdout",
     "output_type": "stream",
     "text": [
      "\r",
      "Progress: 0.0% ... Training loss: 0.908 ... Validation accuracy: 0.763"
     ]
    },
    {
     "name": "stderr",
     "output_type": "stream",
     "text": [
      "Epoch  5/5:   4%|▍         | 44/1114 [00:01<13:30,  1.32batches/s]"
     ]
    },
    {
     "name": "stdout",
     "output_type": "stream",
     "text": [
      "\r",
      "Progress: 4.5% ... Training loss: 0.769 ... Validation accuracy: 0.761"
     ]
    },
    {
     "name": "stderr",
     "output_type": "stream",
     "text": [
      "Epoch  5/5:   8%|▊         | 93/1114 [00:03<04:50,  3.52batches/s]"
     ]
    },
    {
     "name": "stdout",
     "output_type": "stream",
     "text": [
      "\r",
      "Progress: 9.0% ... Training loss: 0.815 ... Validation accuracy: 0.766"
     ]
    },
    {
     "name": "stderr",
     "output_type": "stream",
     "text": [
      "Epoch  5/5:  13%|█▎        | 150/1114 [00:05<01:53,  8.50batches/s]"
     ]
    },
    {
     "name": "stdout",
     "output_type": "stream",
     "text": [
      "\r",
      "Progress: 13.5% ... Training loss: 0.881 ... Validation accuracy: 0.764"
     ]
    },
    {
     "name": "stderr",
     "output_type": "stream",
     "text": [
      "Epoch  5/5:  17%|█▋        | 188/1114 [00:07<01:14, 12.43batches/s]"
     ]
    },
    {
     "name": "stdout",
     "output_type": "stream",
     "text": [
      "\r",
      "Progress: 18.0% ... Training loss: 0.920 ... Validation accuracy: 0.763"
     ]
    },
    {
     "name": "stderr",
     "output_type": "stream",
     "text": [
      "Epoch  5/5:  22%|██▏       | 246/1114 [00:09<00:39, 21.85batches/s]"
     ]
    },
    {
     "name": "stdout",
     "output_type": "stream",
     "text": [
      "\r",
      "Progress: 22.4% ... Training loss: 0.847 ... Validation accuracy: 0.766"
     ]
    },
    {
     "name": "stderr",
     "output_type": "stream",
     "text": [
      "Epoch  5/5:  25%|██▌       | 283/1114 [00:10<00:37, 22.19batches/s]"
     ]
    },
    {
     "name": "stdout",
     "output_type": "stream",
     "text": [
      "\r",
      "Progress: 26.9% ... Training loss: 0.856 ... Validation accuracy: 0.759"
     ]
    },
    {
     "name": "stderr",
     "output_type": "stream",
     "text": [
      "Epoch  5/5:  31%|███       | 343/1114 [00:12<00:24, 31.82batches/s]"
     ]
    },
    {
     "name": "stdout",
     "output_type": "stream",
     "text": [
      "\r",
      "Progress: 31.4% ... Training loss: 0.757 ... Validation accuracy: 0.766"
     ]
    },
    {
     "name": "stderr",
     "output_type": "stream",
     "text": [
      "Epoch  5/5:  34%|███▍      | 381/1114 [00:14<00:27, 26.38batches/s]"
     ]
    },
    {
     "name": "stdout",
     "output_type": "stream",
     "text": [
      "\r",
      "Progress: 35.9% ... Training loss: 0.763 ... Validation accuracy: 0.763"
     ]
    },
    {
     "name": "stderr",
     "output_type": "stream",
     "text": [
      "Epoch  5/5:  40%|███▉      | 444/1114 [00:16<00:18, 36.39batches/s]"
     ]
    },
    {
     "name": "stdout",
     "output_type": "stream",
     "text": [
      "\r",
      "Progress: 40.4% ... Training loss: 1.032 ... Validation accuracy: 0.758"
     ]
    },
    {
     "name": "stderr",
     "output_type": "stream",
     "text": [
      "Epoch  5/5:  43%|████▎     | 482/1114 [00:17<00:22, 27.61batches/s]"
     ]
    },
    {
     "name": "stdout",
     "output_type": "stream",
     "text": [
      "\r",
      "Progress: 44.9% ... Training loss: 1.097 ... Validation accuracy: 0.770"
     ]
    },
    {
     "name": "stderr",
     "output_type": "stream",
     "text": [
      "Epoch  5/5:  49%|████▉     | 544/1114 [00:19<00:15, 36.44batches/s]"
     ]
    },
    {
     "name": "stdout",
     "output_type": "stream",
     "text": [
      "\r",
      "Progress: 49.4% ... Training loss: 0.966 ... Validation accuracy: 0.767"
     ]
    },
    {
     "name": "stderr",
     "output_type": "stream",
     "text": [
      "Epoch  5/5:  52%|█████▏    | 581/1114 [00:21<00:19, 27.78batches/s]"
     ]
    },
    {
     "name": "stdout",
     "output_type": "stream",
     "text": [
      "\r",
      "Progress: 53.9% ... Training loss: 0.986 ... Validation accuracy: 0.767"
     ]
    },
    {
     "name": "stderr",
     "output_type": "stream",
     "text": [
      "Epoch  5/5:  58%|█████▊    | 643/1114 [00:23<00:12, 37.42batches/s]"
     ]
    },
    {
     "name": "stdout",
     "output_type": "stream",
     "text": [
      "\r",
      "Progress: 58.3% ... Training loss: 0.742 ... Validation accuracy: 0.768"
     ]
    },
    {
     "name": "stderr",
     "output_type": "stream",
     "text": [
      "Epoch  5/5:  61%|██████    | 680/1114 [00:24<00:15, 28.11batches/s]"
     ]
    },
    {
     "name": "stdout",
     "output_type": "stream",
     "text": [
      "\r",
      "Progress: 62.8% ... Training loss: 0.910 ... Validation accuracy: 0.760"
     ]
    },
    {
     "name": "stderr",
     "output_type": "stream",
     "text": [
      "Epoch  5/5:  67%|██████▋   | 744/1114 [00:26<00:09, 38.33batches/s]"
     ]
    },
    {
     "name": "stdout",
     "output_type": "stream",
     "text": [
      "\r",
      "Progress: 67.3% ... Training loss: 0.679 ... Validation accuracy: 0.768"
     ]
    },
    {
     "name": "stderr",
     "output_type": "stream",
     "text": [
      "Epoch  5/5:  70%|███████   | 781/1114 [00:28<00:11, 28.35batches/s]"
     ]
    },
    {
     "name": "stdout",
     "output_type": "stream",
     "text": [
      "\r",
      "Progress: 71.8% ... Training loss: 0.741 ... Validation accuracy: 0.766"
     ]
    },
    {
     "name": "stderr",
     "output_type": "stream",
     "text": [
      "Epoch  5/5:  76%|███████▌  | 844/1114 [00:30<00:07, 37.67batches/s]"
     ]
    },
    {
     "name": "stdout",
     "output_type": "stream",
     "text": [
      "\r",
      "Progress: 76.3% ... Training loss: 1.115 ... Validation accuracy: 0.768"
     ]
    },
    {
     "name": "stderr",
     "output_type": "stream",
     "text": [
      "Epoch  5/5:  79%|███████▉  | 881/1114 [00:32<00:08, 28.05batches/s]"
     ]
    },
    {
     "name": "stdout",
     "output_type": "stream",
     "text": [
      "\r",
      "Progress: 80.8% ... Training loss: 0.882 ... Validation accuracy: 0.770"
     ]
    },
    {
     "name": "stderr",
     "output_type": "stream",
     "text": [
      "Epoch  5/5:  85%|████████▍ | 943/1114 [00:33<00:04, 37.49batches/s]"
     ]
    },
    {
     "name": "stdout",
     "output_type": "stream",
     "text": [
      "\r",
      "Progress: 85.3% ... Training loss: 1.060 ... Validation accuracy: 0.768"
     ]
    },
    {
     "name": "stderr",
     "output_type": "stream",
     "text": [
      "Epoch  5/5:  88%|████████▊ | 980/1114 [00:35<00:04, 28.09batches/s]"
     ]
    },
    {
     "name": "stdout",
     "output_type": "stream",
     "text": [
      "\r",
      "Progress: 89.8% ... Training loss: 0.689 ... Validation accuracy: 0.769"
     ]
    },
    {
     "name": "stderr",
     "output_type": "stream",
     "text": [
      "Epoch  5/5:  94%|█████████▎| 1042/1114 [00:37<00:01, 37.44batches/s]"
     ]
    },
    {
     "name": "stdout",
     "output_type": "stream",
     "text": [
      "\r",
      "Progress: 94.3% ... Training loss: 0.601 ... Validation accuracy: 0.768"
     ]
    },
    {
     "name": "stderr",
     "output_type": "stream",
     "text": [
      "Epoch  5/5:  97%|█████████▋| 1080/1114 [00:39<00:01, 28.07batches/s]"
     ]
    },
    {
     "name": "stdout",
     "output_type": "stream",
     "text": [
      "\r",
      "Progress: 98.7% ... Training loss: 0.825 ... Validation accuracy: 0.772"
     ]
    },
    {
     "name": "stderr",
     "output_type": "stream",
     "text": [
      "Epoch  5/5: 100%|██████████| 1114/1114 [00:40<00:00, 27.25batches/s]\n"
     ]
    },
    {
     "name": "stdout",
     "output_type": "stream",
     "text": [
      "Trained model saved!\n"
     ]
    },
    {
     "data": {
      "image/png": "[encoded data removed]",
      "text/plain": [
       "<matplotlib.figure.Figure at 0x116adc0f0>"
      ]
     },
     "metadata": {},
     "output_type": "display_data"
    },
    {
     "name": "stdout",
     "output_type": "stream",
     "text": [
      "Validation accuracy at 0.768666684627533\n"
     ]
    }
   ],
   "source": [
    "import sys\n",
    "# Session\n",
    "\n",
    "loss_batch = []\n",
    "train_acc_batch = []\n",
    "valid_acc_batch = []\n",
    "plot_batches = []\n",
    "\n",
    "# Initializing the variables\n",
    "init = tf.global_variables_initializer()\n",
    "\n",
    "save_file = './train_model.ckpt'\n",
    "saver = tf.train.Saver()\n",
    "\n",
    "with tf.Session() as sess:\n",
    "    sess.run(init)\n",
    "    batch_count = int(math.ceil(n_records/batch_size))\n",
    "    for epoch in range(training_epochs):\n",
    "        # Progress bar\n",
    "        batches_pbar = tqdm(range(batch_count), desc='Epoch {:>2}/{}'.format(epoch+1, training_epochs), unit='batches')\n",
    "        \n",
    "        mbatches = batches(batch_size, train_features, train_labels)\n",
    "        assert len(mbatches) == batch_count\n",
    "        for batch_i in batches_pbar:\n",
    "            batch = mbatches[batch_i]\n",
    "            batch_x, batch_y = batch\n",
    "            _, l = sess.run([optimizer, cost], feed_dict={x: batch_x, y: batch_y})\n",
    "            \n",
    "            if not batch_i % display_step:\n",
    "                training_accuracy = sess.run(accuracy, feed_dict={x: train_features, y: train_labels})\n",
    "                validation_accuracy = sess.run(accuracy, feed_dict={x: valid_features, y: valid_labels})\n",
    "                \n",
    "                previous_batch = plot_batches[-1] if plot_batches else 0\n",
    "                plot_batches.append(display_step + previous_batch)\n",
    "                loss_batch.append(l)\n",
    "                train_acc_batch.append(training_accuracy)\n",
    "                valid_acc_batch.append(validation_accuracy)\n",
    "                sys.stdout.write(\"\\rProgress: {:2.1f}\".format(100 * batch_i/float(batch_count)) \\\n",
    "                     + \"% ... Training loss: \" + str(l)[:5] \\\n",
    "                     + \" ... Validation accuracy: \" + str(validation_accuracy)[:5])\n",
    "                sys.stdout.flush()\n",
    "        # Check accuracy against Validation data\n",
    "        validation_accuracy = sess.run(accuracy, feed_dict={x: valid_features, y: valid_labels})\n",
    "    saver.save(sess, save_file)\n",
    "    print(\"Trained model saved!\")\n",
    "\n",
    "loss_plot = plt.subplot(211)\n",
    "loss_plot.set_title('Loss')\n",
    "loss_plot.plot(plot_batches, loss_batch, 'g')\n",
    "loss_plot.set_xlim([plot_batches[0], plot_batches[-1]])\n",
    "acc_plot = plt.subplot(212)\n",
    "acc_plot.set_title('Accuracy')\n",
    "acc_plot.plot(plot_batches, train_acc_batch, 'r', label='Training Accuracy')\n",
    "acc_plot.plot(plot_batches, valid_acc_batch, 'x', label='Validation Accuracy')\n",
    "acc_plot.set_ylim([0, 1.0])\n",
    "acc_plot.set_xlim([plot_batches[0], plot_batches[-1]])\n",
    "acc_plot.legend(loc=4)\n",
    "plt.tight_layout()\n",
    "plt.show()\n",
    "\n",
    "print('Validation accuracy at {}'.format(validation_accuracy))\n"
   ]
  },
  {
   "cell_type": "code",
   "execution_count": 44,
   "metadata": {
    "collapsed": false
   },
   "outputs": [
    {
     "name": "stdout",
     "output_type": "stream",
     "text": [
      "Validation accuracy at 0.7769333124160767\n"
     ]
    }
   ],
   "source": [
    "print('Validation accuracy at {}'.format(validation_accuracy))"
   ]
  },
  {
   "cell_type": "code",
   "execution_count": 48,
   "metadata": {
    "collapsed": false
   },
   "outputs": [
    {
     "name": "stdout",
     "output_type": "stream",
     "text": [
      "INFO:tensorflow:Restoring parameters from ./train_model.ckpt\n",
      "Test Accuracy: 0.8513000011444092\n"
     ]
    }
   ],
   "source": [
    "with tf.Session() as sess:\n",
    "    saver.restore(sess, save_file)\n",
    "    test_accuracy = sess.run(\n",
    "        accuracy,\n",
    "        feed_dict={x: test_features, y: test_labels})\n",
    "    \n",
    "print('Test Accuracy: {}'.format(test_accuracy))"
   ]
  },
  {
   "cell_type": "code",
   "execution_count": null,
   "metadata": {
    "collapsed": true
   },
   "outputs": [],
   "source": []
  }
 ],
 "metadata": {
  "kernelspec": {
   "display_name": "Python 3",
   "language": "python",
   "name": "python3"
  },
  "language_info": {
   "codemirror_mode": {
    "name": "ipython",
    "version": 3
   },
   "file_extension": ".py",
   "mimetype": "text/x-python",
   "name": "python",
   "nbconvert_exporter": "python",
   "pygments_lexer": "ipython3",
   "version": "3.5.4"
  }
 },
 "nbformat": 4,
 "nbformat_minor": 1
}
